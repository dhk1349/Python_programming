{
 "cells": [
  {
   "cell_type": "markdown",
   "metadata": {},
   "source": [
    "<h2>해볼 것</h2>\n",
    "Goal: 유의미한 independent feature를 뽑아낼 것.\n",
    "\n",
    "각 변수 별로 뽑아서 https://datascienceschool.net/view-notebook/4c2d5ff1caab4b21a708cc662137bc65/\n",
    "을 참고하여 시각화 해볼 것.\n",
    "\n",
    "-기본 feature를 가지고 상관 관계 분석<br>\n",
    "    -> Chain 관계에 있는 independent feature는 없는지, <br>\n",
    "    -> independent var 찾기<br>\n",
    "<br>\n",
    "-일부 정보를 가공해서 다시 확인<br>\n",
    "    -> 연봉 정보를 가공: 상한을 두는 방식?<br>\n",
    "    -> 몇 가지 feature를 섞어서 score로 변환<br>\n",
    "<br>\n",
    "-external/internal feature 구분하기?\n",
    "    \n",
    "   "
   ]
  },
  {
   "cell_type": "code",
   "execution_count": null,
   "metadata": {},
   "outputs": [],
   "source": []
  }
 ],
 "metadata": {
  "kernelspec": {
   "display_name": "Python 3",
   "language": "python",
   "name": "python3"
  },
  "language_info": {
   "codemirror_mode": {
    "name": "ipython",
    "version": 3
   },
   "file_extension": ".py",
   "mimetype": "text/x-python",
   "name": "python",
   "nbconvert_exporter": "python",
   "pygments_lexer": "ipython3",
   "version": "3.7.3"
  }
 },
 "nbformat": 4,
 "nbformat_minor": 2
}
