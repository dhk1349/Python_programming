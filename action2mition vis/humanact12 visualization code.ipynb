{
 "cells": [
  {
   "cell_type": "code",
   "execution_count": 1,
   "metadata": {},
   "outputs": [],
   "source": [
    "import models.motion_vae as vae_models\n",
    "from trainer.vae_trainer import *\n",
    "from utils.plot_script import *\n",
    "import utils.paramUtil as paramUtil\n",
    "from utils.utils_ import *\n",
    "from options.evaluate_vae_options import *\n",
    "from dataProcessing import dataset\n",
    "from torch.utils.data import DataLoader"
   ]
  },
  {
   "cell_type": "code",
   "execution_count": 4,
   "metadata": {},
   "outputs": [],
   "source": [
    "import os\n",
    "import glob\n",
    "import numpy as np"
   ]
  },
  {
   "cell_type": "code",
   "execution_count": 3,
   "metadata": {},
   "outputs": [],
   "source": [
    "path=\"/media/dhk1349/disk1/datasets/HumanAct12/HumanAct12\""
   ]
  },
  {
   "cell_type": "code",
   "execution_count": 9,
   "metadata": {},
   "outputs": [],
   "source": [
    "files=glob.glob(os.path.join(path,\"*.npy\"))"
   ]
  },
  {
   "cell_type": "code",
   "execution_count": 28,
   "metadata": {},
   "outputs": [],
   "source": [
    "motion_orig=np.load(files[0])"
   ]
  },
  {
   "cell_type": "markdown",
   "metadata": {},
   "source": [
    "### frames x joints x dimension"
   ]
  },
  {
   "cell_type": "code",
   "execution_count": 31,
   "metadata": {},
   "outputs": [
    {
     "data": {
      "text/plain": [
       "(92, 72)"
      ]
     },
     "execution_count": 31,
     "metadata": {},
     "output_type": "execute_result"
    }
   ],
   "source": [
    "motion_orig = motion_orig.reshape(-1, 3*24)\n",
    "motion_orig.shape"
   ]
  },
  {
   "cell_type": "code",
   "execution_count": 17,
   "metadata": {},
   "outputs": [],
   "source": [
    "input_size = 72\n",
    "joints_num = 24\n",
    "label_dec = [1, 2, 3, 4, 5, 6, 7, 8, 9, 10, 11, 12]\n",
    "raw_offsets = paramUtil.humanact12_raw_offsets\n",
    "kinematic_chain = paramUtil.humanact12_kinematic_chain\n",
    "enumerator = paramUtil.humanact12_coarse_action_enumerator"
   ]
  },
  {
   "cell_type": "code",
   "execution_count": 32,
   "metadata": {},
   "outputs": [],
   "source": [
    "offset = np.matlib.repmat(np.array([motion_orig[0, 0], motion_orig[0, 1], motion_orig[0, 2]]),\n",
    "                                     motion_orig.shape[0], joints_num)\n",
    "\n",
    "motion_mat = motion_orig - offset\n",
    "\n",
    "motion_mat = motion_mat.reshape(-1, joints_num, 3)"
   ]
  },
  {
   "cell_type": "code",
   "execution_count": 33,
   "metadata": {},
   "outputs": [
    {
     "data": {
      "text/plain": [
       "(92, 72)"
      ]
     },
     "execution_count": 33,
     "metadata": {},
     "output_type": "execute_result"
    }
   ],
   "source": [
    "offset.shape"
   ]
  },
  {
   "cell_type": "code",
   "execution_count": 34,
   "metadata": {},
   "outputs": [
    {
     "name": "stdout",
     "output_type": "stream",
     "text": [
      "(92, 24, 3)\n"
     ]
    }
   ],
   "source": [
    "plot_3d_motion_v2(motion_mat, kinematic_chain, save_path=\"./SAMPLE.gif\", interval=80)"
   ]
  },
  {
   "cell_type": "markdown",
   "metadata": {},
   "source": [
    "기존 Action2Motion 모델 구조 때문에 joint와 3dim을 합쳐서 데이터를 다룬다. \n",
    "그래서 dataset libraray에서 reshape(-1, 24*3) 형식으로 리턴한다. "
   ]
  }
 ],
 "metadata": {
  "kernelspec": {
   "display_name": "torch",
   "language": "python",
   "name": "torch"
  },
  "language_info": {
   "codemirror_mode": {
    "name": "ipython",
    "version": 3
   },
   "file_extension": ".py",
   "mimetype": "text/x-python",
   "name": "python",
   "nbconvert_exporter": "python",
   "pygments_lexer": "ipython3",
   "version": "3.6.13"
  }
 },
 "nbformat": 4,
 "nbformat_minor": 4
}
