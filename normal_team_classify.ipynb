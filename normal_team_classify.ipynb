{
 "cells": [
  {
   "cell_type": "markdown",
   "metadata": {},
   "source": [
    "기본 attribute\n"
   ]
  },
  {
   "cell_type": "code",
   "execution_count": 38,
   "metadata": {},
   "outputs": [],
   "source": [
    "import pandas as pd\n",
    "import os"
   ]
  },
  {
   "cell_type": "code",
   "execution_count": 8,
   "metadata": {},
   "outputs": [
    {
     "name": "stdout",
     "output_type": "stream",
     "text": [
      "  T_ID T_NM\n",
      "0   HH   한화\n",
      "1   HT  KIA\n",
      "2   KT   KT\n",
      "3   LG   LG\n",
      "4   LT   롯데\n",
      "5   NC   NC\n",
      "6   OB   두산\n",
      "7   SK   SK\n",
      "8   SS   삼성\n",
      "9   WO   키움\n"
     ]
    }
   ],
   "source": [
    "team=pd.read_excel(\"bigcon_2019.xlsx\", '1.팀')\n",
    "pitcher=pd.read_excel(\"bigcon_2019.xlsx\", '4.팀투수')\n",
    "hitter=pd.read_excel(\"bigcon_2019.xlsx\", '5.팀타자')\n",
    "print(team)"
   ]
  },
  {
   "cell_type": "code",
   "execution_count": 9,
   "metadata": {},
   "outputs": [
    {
     "data": {
      "text/plain": [
       "{'HH', 'HT', 'KT', 'LG', 'LT', 'NC', 'OB', 'SK', 'SS', 'WO'}"
      ]
     },
     "execution_count": 9,
     "metadata": {},
     "output_type": "execute_result"
    }
   ],
   "source": [
    "set(team['T_ID'].to_list())"
   ]
  },
  {
   "cell_type": "code",
   "execution_count": 10,
   "metadata": {},
   "outputs": [],
   "source": [
    "teamlist=list(set(team['T_ID'].to_list()))"
   ]
  },
  {
   "cell_type": "code",
   "execution_count": 11,
   "metadata": {},
   "outputs": [
    {
     "data": {
      "text/plain": [
       "['KT', 'LG', 'HH', 'WO', 'SS', 'HT', 'OB', 'NC', 'LT', 'SK']"
      ]
     },
     "execution_count": 11,
     "metadata": {},
     "output_type": "execute_result"
    }
   ],
   "source": [
    "teamlist"
   ]
  },
  {
   "cell_type": "code",
   "execution_count": 69,
   "metadata": {},
   "outputs": [],
   "source": [
    "def normal_team_csv(filename):\n",
    "    team=pd.read_excel(filename, '1.팀')\n",
    "    pitcher=pd.read_excel(filename, '4.팀투수')\n",
    "    hitter=pd.read_excel(filename, '5.팀타자')\n",
    "    teamlist=list(set(team['T_ID'].to_list()))\n",
    "    pitch_columns=pitcher.columns.to_list()\n",
    "    hitter_columns=hitter.columns.to_list()\n",
    "        \n",
    "    n_pitch_columns=[\"p_\"+i for idx, i in enumerate(pitch_columns)]\n",
    "    for i in range(6):\n",
    "        n_pitch_columns[i]=n_pitch_columns[i][2:]\n",
    "    n_hitter_columns=[\"h_\"+i for i in hitter_columns]\n",
    "    for t in teamlist:\n",
    "        df=pd.DataFrame(columns=n_pitch_columns+n_hitter_columns[6:])\n",
    "        for idx, i in enumerate(pitcher['T_ID'].to_list()):\n",
    "            if(i==t):\n",
    "                row1=pd.DataFrame(pitcher[idx:idx+1], columns=pitch_columns)\n",
    "                row1.columns=n_pitch_columns\n",
    "                #print(row)\n",
    "                row2=pd.DataFrame(hitter[idx:idx+1], columns=hitter_columns)\n",
    "                row2=row2.drop(columns=hitter_columns[:6]) \n",
    "                row2.columns=n_hitter_columns[6:]\n",
    "                \n",
    "                row = pd.concat([row1,row2],axis=1)\n",
    "                #print(row)\n",
    "                df = df.append(row,ignore_index=True)\n",
    "                #print(pitcher[idx:idx+1])\n",
    "        path=filename.split('.')[0][-4:]+\"_normal\"\n",
    "        if (os.path.isdir(os.getcwd()+\"\\\\\"+path)==False):\n",
    "            os.makedirs('./'+path)\n",
    "        df.to_csv(path+\"\\\\\"+filename.split('.')[0]+\"_\"+str(t)+\".csv\")\n",
    "   "
   ]
  },
  {
   "cell_type": "code",
   "execution_count": 70,
   "metadata": {},
   "outputs": [
    {
     "data": {
      "text/plain": [
       "'\\nnormal_team_csv(\"bigcon_2017.xlsx\")\\nnormal_team_csv(\"bigcon_2018.xlsx\")\\nnormal_team_csv(\"bigcon_2019.xlsx\")\\nnormal_team_csv(\"bigcon_2020.xlsx\")\\n'"
      ]
     },
     "execution_count": 70,
     "metadata": {},
     "output_type": "execute_result"
    }
   ],
   "source": [
    "normal_team_csv(\"bigcon_2016.xlsx\")\n",
    "\"\"\"\n",
    "normal_team_csv(\"bigcon_2017.xlsx\")\n",
    "normal_team_csv(\"bigcon_2018.xlsx\")\n",
    "normal_team_csv(\"bigcon_2019.xlsx\")\n",
    "normal_team_csv(\"bigcon_2020.xlsx\")\n",
    "\"\"\""
   ]
  },
  {
   "cell_type": "code",
   "execution_count": null,
   "metadata": {},
   "outputs": [],
   "source": []
  }
 ],
 "metadata": {
  "kernelspec": {
   "display_name": "Python 3",
   "language": "python",
   "name": "python3"
  },
  "language_info": {
   "codemirror_mode": {
    "name": "ipython",
    "version": 3
   },
   "file_extension": ".py",
   "mimetype": "text/x-python",
   "name": "python",
   "nbconvert_exporter": "python",
   "pygments_lexer": "ipython3",
   "version": "3.7.3"
  }
 },
 "nbformat": 4,
 "nbformat_minor": 2
}
