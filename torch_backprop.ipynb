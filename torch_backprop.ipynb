{
 "cells": [
  {
   "cell_type": "code",
   "execution_count": 1,
   "metadata": {},
   "outputs": [],
   "source": [
    "import torch"
   ]
  },
  {
   "cell_type": "code",
   "execution_count": 2,
   "metadata": {},
   "outputs": [],
   "source": [
    "class NN():\n",
    "    def __init__(self, w):\n",
    "        self.w=w\n",
    "    def feed_forward(self, x, b):\n",
    "        return self.w[1]*x**2+self.w[0]*x+b\n",
    "    \n",
    "    def compute_loss(self, y, yhat):\n",
    "        return (y-yhat)**2\n",
    "    \n",
    "    def backprop(self, x, b, y):\n",
    "        l=2*(self.feed_forward(x,b)-y)*x\n",
    "        l.backward()\n",
    "        print(\"grad of w: \",self.w.grad)\n",
    "        print(\"grad of loss: \", l.item())\n",
    "        return l.item()"
   ]
  },
  {
   "cell_type": "code",
   "execution_count": 3,
   "metadata": {},
   "outputs": [],
   "source": [
    "w=torch.tensor([1.0,2.0], requires_grad=True)"
   ]
  },
  {
   "cell_type": "code",
   "execution_count": 4,
   "metadata": {},
   "outputs": [],
   "source": [
    "nn=NN(w)"
   ]
  },
  {
   "cell_type": "code",
   "execution_count": 5,
   "metadata": {},
   "outputs": [
    {
     "name": "stdout",
     "output_type": "stream",
     "text": [
      "grad of w:  tensor([2., 2.])\n",
      "grad of loss:  4.0\n"
     ]
    }
   ],
   "source": [
    "out=nn.backprop(1,2, 3)"
   ]
  },
  {
   "cell_type": "code",
   "execution_count": null,
   "metadata": {},
   "outputs": [],
   "source": []
  }
 ],
 "metadata": {
  "kernelspec": {
   "display_name": "Python 3",
   "language": "python",
   "name": "python3"
  },
  "language_info": {
   "codemirror_mode": {
    "name": "ipython",
    "version": 3
   },
   "file_extension": ".py",
   "mimetype": "text/x-python",
   "name": "python",
   "nbconvert_exporter": "python",
   "pygments_lexer": "ipython3",
   "version": "3.7.3"
  }
 },
 "nbformat": 4,
 "nbformat_minor": 2
}
