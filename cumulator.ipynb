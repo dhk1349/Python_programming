{
 "cells": [
  {
   "cell_type": "code",
   "execution_count": 1,
   "metadata": {},
   "outputs": [],
   "source": [
    "import pandas as pd\n",
    "import numpy as np\n",
    "import os"
   ]
  },
  {
   "cell_type": "code",
   "execution_count": 2,
   "metadata": {},
   "outputs": [],
   "source": [
    "year=[2016, 2017, 2018, 2019, 2020]\n",
    "team=['OB', 'SS', 'HT', 'LT', 'WO', 'NC', 'SK', 'LG', 'KT', 'HH']"
   ]
  },
  {
   "cell_type": "code",
   "execution_count": 3,
   "metadata": {},
   "outputs": [],
   "source": [
    "csv_file=pd.read_csv('2019_convert\\\\convert_bigcon_2019_HH.csv')\n",
    "columns=csv_file.columns"
   ]
  },
  {
   "cell_type": "code",
   "execution_count": 4,
   "metadata": {},
   "outputs": [
    {
     "data": {
      "text/plain": [
       "Index(['Unnamed: 0', 'G_ID', 'GDAY_DS', 'T_ID', 'VS_T_ID', 'HEADER_NO',\n",
       "       'TB_SC', 'WHIP', 'LOB', 'ERA', 'FIP', 'H_9', 'K_9', 'BB_9', 'HR_9',\n",
       "       'oAVG', 'oSLG', 'oOBP', 'P_WHIP_RT', 'P2_WHIP_RT', 'CB_WHIP_RT', 'AVG',\n",
       "       'OBP', 'SLG', 'OPS', 'RC', 'GPA', 'BA', 'SECA', 'TA', 'XR', 'ISO',\n",
       "       'wOBA', 'P_HRA_RT', 'DER', 'PF', 'H_A', 'WLS', 'PITCHER_INNING',\n",
       "       'PITCHER_ER', 'HITTER_AB', 'HITTER_HIT'],\n",
       "      dtype='object')"
      ]
     },
     "execution_count": 4,
     "metadata": {},
     "output_type": "execute_result"
    }
   ],
   "source": [
    "columns"
   ]
  },
  {
   "cell_type": "code",
   "execution_count": 5,
   "metadata": {},
   "outputs": [
    {
     "data": {
      "text/plain": [
       "['WHIP',\n",
       " 'LOB',\n",
       " 'ERA',\n",
       " 'FIP',\n",
       " 'H_9',\n",
       " 'K_9',\n",
       " 'BB_9',\n",
       " 'HR_9',\n",
       " 'oAVG',\n",
       " 'oSLG',\n",
       " 'oOBP',\n",
       " 'P_WHIP_RT',\n",
       " 'P2_WHIP_RT',\n",
       " 'CB_WHIP_RT',\n",
       " 'AVG',\n",
       " 'OBP',\n",
       " 'SLG',\n",
       " 'OPS',\n",
       " 'RC',\n",
       " 'GPA',\n",
       " 'BA',\n",
       " 'SECA',\n",
       " 'TA',\n",
       " 'XR',\n",
       " 'ISO',\n",
       " 'wOBA',\n",
       " 'P_HRA_RT',\n",
       " 'DER',\n",
       " 'PF',\n",
       " 'PITCHER_INNING',\n",
       " 'PITCHER_ER',\n",
       " 'HITTER_AB',\n",
       " 'HITTER_HIT']"
      ]
     },
     "execution_count": 5,
     "metadata": {},
     "output_type": "execute_result"
    }
   ],
   "source": [
    "columns=columns[7:].to_list()\n",
    "columns.remove('WLS')\n",
    "columns.remove('H_A')\n",
    "columns"
   ]
  },
  {
   "cell_type": "code",
   "execution_count": 23,
   "metadata": {},
   "outputs": [],
   "source": [
    "def avg(_list, to_add, idx):\n",
    "    return ((_list+to_add)/idx, (_list+to_add))"
   ]
  },
  {
   "cell_type": "code",
   "execution_count": 34,
   "metadata": {},
   "outputs": [],
   "source": [
    "def exp_mv_avg(_list, to_add, idx, alpha=0.2):\n",
    "    if(idx!=1):\n",
    "        return ((alpha*to_add+(1-alpha)*_list), (alpha*to_add+(1-alpha)*_list))\n",
    "    else:\n",
    "        return (to_add, to_add)"
   ]
  },
  {
   "cell_type": "code",
   "execution_count": 49,
   "metadata": {},
   "outputs": [],
   "source": [
    "def cumulator(path, file, func):\n",
    "    org_col=['Unnamed: 0', 'G_ID', 'GDAY_DS', 'T_ID', 'VS_T_ID', 'HEADER_NO',\n",
    "       'TB_SC', 'WHIP', 'LOB', 'ERA', 'FIP', 'H_9', 'K_9', 'BB_9', 'HR_9',\n",
    "       'oAVG', 'oSLG', 'oOBP', 'P_WHIP_RT', 'P2_WHIP_RT', 'CB_WHIP_RT', 'AVG',\n",
    "       'OBP', 'SLG', 'OPS', 'RC', 'GPA', 'BA', 'SECA', 'TA', 'XR', 'ISO',\n",
    "       'wOBA', 'P_HRA_RT', 'DER', 'PF', 'H_A', 'WLS', 'PITCHER_INNING',\n",
    "       'PITCHER_ER', 'HITTER_AB', 'HITTER_HIT']\n",
    "    columns=['WHIP', 'LOB', 'ERA', 'FIP', 'H_9', 'K_9', 'BB_9', 'HR_9', 'oAVG', 'oSLG', 'oOBP', 'P_WHIP_RT', 'P2_WHIP_RT', 'CB_WHIP_RT',\n",
    "             'AVG', 'OBP', 'SLG', 'OPS', 'RC', 'GPA', 'BA', 'SECA', 'TA', 'XR', 'ISO', 'wOBA', 'P_HRA_RT', 'DER', 'PF', 'PITCHER_INNING', 'PITCHER_ER', 'HITTER_AB', 'HITTER_HIT']\n",
    "    year=[2016, 2017, 2018, 2019, 2020]\n",
    "    team=['OB', 'SS', 'HT', 'LT', 'WO', 'NC', 'SK', 'LG', 'KT', 'HH']\n",
    "    if (os.path.isdir(os.getcwd()+\"\\\\cumulate\")==False):\n",
    "        os.mkdir('cumulate')\n",
    "    for y in year:\n",
    "        for t in team:\n",
    "            data=pd.read_csv(str(y)+path+\"\\\\\"+file+str(y)+\"_\"+str(t)+\".csv\")\n",
    "            df=pd.DataFrame(columns=columns)\n",
    "            cum=np.zeros(33)\n",
    "            avg_row=np.zeros(33)\n",
    "            for idx in data.index:\n",
    "                row=pd.DataFrame(data[idx:idx+1], columns=org_col)\n",
    "                row=row.drop(columns=org_col[:7]+['WLS','H_A'])\n",
    "                row=np.array(row.values)\n",
    "                (avg_row,cum)=func(cum, row, idx+1)\n",
    "                row = pd.DataFrame(avg_row, columns=columns)\n",
    "    \n",
    "                df=df.append(row,ignore_index=True)\n",
    "            for i in org_col[1:7]+['WLS', 'H_A']:\n",
    "                df[i]=data[i]\n",
    "            df=df[org_col[1:]]\n",
    "            if (os.path.isdir(os.getcwd()+\"\\\\cumulate\\\\\"+str(y))==False):\n",
    "                os.mkdir('cumulate\\\\'+str(y))\n",
    "            df.to_csv(\"cumulate\\\\\"+str(y)+\"\\\\cumulate_\"+str(y)+\"_\"+str(t)+\".csv\")"
   ]
  },
  {
   "cell_type": "code",
   "execution_count": 50,
   "metadata": {},
   "outputs": [],
   "source": [
    "cumulator('_convert','convert_bigcon_', avg)"
   ]
  },
  {
   "cell_type": "code",
   "execution_count": 51,
   "metadata": {},
   "outputs": [],
   "source": [
    "cumulator('_convert','convert_bigcon_', exp_mv_avg)"
   ]
  },
  {
   "cell_type": "code",
   "execution_count": null,
   "metadata": {},
   "outputs": [],
   "source": []
  }
 ],
 "metadata": {
  "kernelspec": {
   "display_name": "Python 3",
   "language": "python",
   "name": "python3"
  },
  "language_info": {
   "codemirror_mode": {
    "name": "ipython",
    "version": 3
   },
   "file_extension": ".py",
   "mimetype": "text/x-python",
   "name": "python",
   "nbconvert_exporter": "python",
   "pygments_lexer": "ipython3",
   "version": "3.7.3"
  }
 },
 "nbformat": 4,
 "nbformat_minor": 2
}
